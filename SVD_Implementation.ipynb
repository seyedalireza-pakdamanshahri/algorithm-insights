{
  "cells": [
    {
      "cell_type": "markdown",
      "source": [
        "# Singular Value Decomposition (SVD) Implementation\n",
        "\n",
        "In this notebook, we'll implement SVD and use it in a real-life scenario: a simple recommendation system."
      ],
      "metadata": {
        "jupyter": {
          "outputs_hidden": false,
          "source_hidden": false
        },
        "noteable": {
          "cell_type": "markdown"
        }
      },
      "id": "e9a71537-4920-48f5-9b59-187ecc3bf8a9"
    },
    {
      "cell_type": "code",
      "source": [
        "import numpy as np\n",
        "import pandas as pd\n",
        "from sklearn.decomposition import TruncatedSVD"
      ],
      "outputs": [],
      "execution_count": null,
      "metadata": {
        "jupyter": {
          "outputs_hidden": false,
          "source_hidden": false
        },
        "noteable": {
          "cell_type": "code"
        }
      },
      "id": "1f07b8fe-8037-4b13-8461-85d4a0f5ef82"
    },
    {
      "cell_type": "code",
      "source": [
        "# Create a simple user-movie rating dataset\n",
        "ratings = pd.DataFrame({\n",
        "    'user_id': ['1', '1', '1', '2', '2', '2', '3', '3', '3', '4', '4', '4'],\n",
        "    'movie_id': ['A', 'B', 'C', 'A', 'B', 'D', 'C', 'D', 'E', 'B', 'E', 'F'],\n",
        "    'rating': [5, 4, 3, 4, 5, 3, 2, 4, 5, 5, 4, 3]\n",
        "})\n",
        "\n",
        "# Pivot the dataframe to get user-movie matrix\n",
        "user_movie_matrix = ratings.pivot_table(index='user_id', columns='movie_id', values='rating').fillna(0)\n",
        "\n",
        "user_movie_matrix"
      ],
      "outputs": [
        {
          "output_type": "display_data",
          "data": {
            "application/vnd.dataresource+json": {
              "schema": {
                "fields": [
                  {
                    "name": "user_id",
                    "type": "string"
                  },
                  {
                    "name": "A",
                    "type": "number"
                  },
                  {
                    "name": "B",
                    "type": "number"
                  },
                  {
                    "name": "C",
                    "type": "number"
                  },
                  {
                    "name": "D",
                    "type": "number"
                  },
                  {
                    "name": "E",
                    "type": "number"
                  },
                  {
                    "name": "F",
                    "type": "number"
                  }
                ],
                "primaryKey": [
                  "user_id"
                ],
                "pandas_version": "1.4.0"
              },
              "data": [
                {
                  "user_id": "1",
                  "A": 5,
                  "B": 4,
                  "C": 3,
                  "D": 0,
                  "E": 0,
                  "F": 0
                },
                {
                  "user_id": "2",
                  "A": 4,
                  "B": 5,
                  "C": 0,
                  "D": 3,
                  "E": 0,
                  "F": 0
                },
                {
                  "user_id": "3",
                  "A": 0,
                  "B": 0,
                  "C": 2,
                  "D": 4,
                  "E": 5,
                  "F": 0
                },
                {
                  "user_id": "4",
                  "A": 0,
                  "B": 5,
                  "C": 0,
                  "D": 0,
                  "E": 4,
                  "F": 3
                }
              ],
              "datalink": {
                "display_id": "d2cb8345-50fe-4dc8-b96d-8c21c837744f"
              }
            }
          },
          "metadata": {
            "application/vnd.dataresource+json": {
              "datalink": {
                "dataframe_info": {
                  "default_index_used": false,
                  "orig_size_bytes": 224,
                  "orig_num_rows": 4,
                  "orig_num_cols": 6,
                  "truncated_string_columns": [],
                  "truncated_size_bytes": 224,
                  "truncated_num_rows": 4,
                  "truncated_num_cols": 6
                },
                "dx_settings": {
                  "NUM_PAST_SAMPLES_TRACKED": 3,
                  "ENABLE_DATALINK": true,
                  "DISPLAY_MODE": "simple",
                  "GENERATE_DEX_METADATA": false,
                  "STRINGIFY_INDEX_VALUES": false,
                  "ALLOW_NOTEABLE_ATTRS": true,
                  "DISPLAY_MAX_COLUMNS": 100,
                  "HTML_TABLE_SCHEMA": false,
                  "SAMPLING_FACTOR": 0.1,
                  "LOG_LEVEL": 30,
                  "ENABLE_ASSIGNMENT": true,
                  "FLATTEN_INDEX_VALUES": false,
                  "DEV_MODE": false,
                  "COLUMN_SAMPLING_METHOD": "outer",
                  "FLATTEN_COLUMN_VALUES": true,
                  "DISPLAY_MAX_ROWS": 50000,
                  "ROW_SAMPLING_METHOD": "random",
                  "RANDOM_STATE": 12648430,
                  "DB_LOCATION": ":memory:",
                  "STRINGIFY_COLUMN_VALUES": true,
                  "SAMPLING_METHOD": "random",
                  "MAX_STRING_LENGTH": 250,
                  "MAX_RENDER_SIZE_BYTES": 104857600,
                  "RESET_INDEX_VALUES": false
                },
                "display_id": "d2cb8345-50fe-4dc8-b96d-8c21c837744f",
                "applied_filters": [],
                "sample_history": [],
                "sampling_time": "2023-05-26T20:32:17.487151",
                "variable_name": "user_movie_matrix",
                "user_variable_name": "user_movie_matrix"
              },
              "display_id": "d2cb8345-50fe-4dc8-b96d-8c21c837744f"
            }
          }
        }
      ],
      "execution_count": null,
      "metadata": {
        "jupyter": {
          "source_hidden": false,
          "outputs_hidden": false
        },
        "noteable": {
          "cell_type": "code"
        },
        "ExecuteTime": {
          "start_time": "2023-05-26T20:32:17.416809+00:00",
          "end_time": "2023-05-26T20:32:17.647495+00:00"
        },
        "datalink": {
          "d2cb8345-50fe-4dc8-b96d-8c21c837744f": {
            "dataframe_info": {
              "default_index_used": false,
              "orig_size_bytes": 224,
              "orig_num_rows": 4,
              "orig_num_cols": 6,
              "truncated_string_columns": [],
              "truncated_size_bytes": 224,
              "truncated_num_rows": 4,
              "truncated_num_cols": 6
            },
            "dx_settings": {
              "LOG_LEVEL": 30,
              "DEV_MODE": false,
              "DISPLAY_MAX_ROWS": 50000,
              "DISPLAY_MAX_COLUMNS": 100,
              "HTML_TABLE_SCHEMA": false,
              "MAX_RENDER_SIZE_BYTES": 104857600,
              "MAX_STRING_LENGTH": 250,
              "SAMPLING_FACTOR": 0.1,
              "DISPLAY_MODE": "simple",
              "SAMPLING_METHOD": "random",
              "COLUMN_SAMPLING_METHOD": "outer",
              "ROW_SAMPLING_METHOD": "random",
              "RANDOM_STATE": 12648430,
              "RESET_INDEX_VALUES": false,
              "FLATTEN_INDEX_VALUES": false,
              "FLATTEN_COLUMN_VALUES": true,
              "STRINGIFY_INDEX_VALUES": false,
              "STRINGIFY_COLUMN_VALUES": true,
              "ENABLE_DATALINK": true,
              "ENABLE_ASSIGNMENT": true,
              "NUM_PAST_SAMPLES_TRACKED": 3,
              "DB_LOCATION": ":memory:",
              "GENERATE_DEX_METADATA": false,
              "ALLOW_NOTEABLE_ATTRS": true
            },
            "display_id": "d2cb8345-50fe-4dc8-b96d-8c21c837744f",
            "applied_filters": [],
            "sample_history": [],
            "sampling_time": "2023-05-26T20:32:17.487151",
            "variable_name": "user_movie_matrix",
            "user_variable_name": "user_movie_matrix"
          }
        }
      },
      "id": "4536cc45-e126-4367-8fac-b58b987900d9"
    },
    {
      "cell_type": "code",
      "source": [
        "# Perform SVD\n",
        "svd = TruncatedSVD(n_components=2)\n",
        "decomposed_matrix = svd.fit_transform(user_movie_matrix)\n",
        "\n",
        "# Print the decomposed matrix\n",
        "decomposed_matrix"
      ],
      "outputs": [
        {
          "output_type": "error",
          "ename": "NameError",
          "evalue": "name 'TruncatedSVD' is not defined",
          "traceback": [
            "\u001b[0;31m---------------------------------------------------------------------------\u001b[0m",
            "\u001b[0;31mNameError\u001b[0m                                 Traceback (most recent call last)",
            "Cell \u001b[0;32mIn[2], line 2\u001b[0m\n\u001b[1;32m      1\u001b[0m \u001b[38;5;66;03m# Perform SVD\u001b[39;00m\n\u001b[0;32m----> 2\u001b[0m svd \u001b[38;5;241m=\u001b[39m \u001b[43mTruncatedSVD\u001b[49m(n_components\u001b[38;5;241m=\u001b[39m\u001b[38;5;241m2\u001b[39m)\n\u001b[1;32m      3\u001b[0m decomposed_matrix \u001b[38;5;241m=\u001b[39m svd\u001b[38;5;241m.\u001b[39mfit_transform(user_movie_matrix)\n\u001b[1;32m      5\u001b[0m \u001b[38;5;66;03m# Print the decomposed matrix\u001b[39;00m\n",
            "\u001b[0;31mNameError\u001b[0m: name 'TruncatedSVD' is not defined"
          ]
        }
      ],
      "execution_count": null,
      "metadata": {
        "jupyter": {
          "source_hidden": false,
          "outputs_hidden": false
        },
        "noteable": {
          "cell_type": "code"
        },
        "ExecuteTime": {
          "start_time": "2023-05-26T20:32:30.194187+00:00",
          "end_time": "2023-05-26T20:32:30.842430+00:00"
        }
      },
      "id": "bb523d08-e8a7-4049-b6d6-642a163c30e2"
    },
    {
      "cell_type": "code",
      "source": [
        "import numpy as np\n",
        "import pandas as pd\n",
        "from sklearn.decomposition import TruncatedSVD"
      ],
      "outputs": [],
      "execution_count": null,
      "metadata": {
        "jupyter": {
          "source_hidden": false,
          "outputs_hidden": false
        },
        "noteable": {
          "cell_type": "code"
        },
        "ExecuteTime": {
          "start_time": "2023-05-26T20:32:43.743339+00:00",
          "end_time": "2023-05-26T20:32:44.280645+00:00"
        }
      },
      "id": "834fbfe6-a08f-4ccd-a84b-ada9e2abc62a"
    },
    {
      "cell_type": "code",
      "source": [
        "# Perform SVD\n",
        "svd = TruncatedSVD(n_components=2)\n",
        "decomposed_matrix = svd.fit_transform(user_movie_matrix)\n",
        "\n",
        "# Print the decomposed matrix\n",
        "decomposed_matrix"
      ],
      "outputs": [
        {
          "output_type": "execute_result",
          "execution_count": null,
          "data": {
            "text/plain": "array([[ 5.93218411, -3.11401167],\n       [ 6.37009278, -1.92342991],\n       [ 3.16204567,  5.16482759],\n       [ 5.32236476,  2.70441758]])"
          },
          "metadata": {}
        }
      ],
      "execution_count": null,
      "metadata": {
        "jupyter": {
          "source_hidden": false,
          "outputs_hidden": false
        },
        "noteable": {
          "cell_type": "code"
        },
        "ExecuteTime": {
          "start_time": "2023-05-26T20:32:56.558709+00:00",
          "end_time": "2023-05-26T20:32:56.840084+00:00"
        }
      },
      "id": "6835dd49-6225-4835-bcee-60af5ed83b2c"
    },
    {
      "cell_type": "code",
      "source": [
        "# Compute correlation matrix\n",
        "correlation_matrix = np.corrcoef(decomposed_matrix)\n",
        "correlation_matrix"
      ],
      "outputs": [
        {
          "output_type": "execute_result",
          "execution_count": null,
          "data": {
            "text/plain": "array([[ 1.,  1., -1.,  1.],\n       [ 1.,  1., -1.,  1.],\n       [-1., -1.,  1., -1.],\n       [ 1.,  1., -1.,  1.]])"
          },
          "metadata": {}
        }
      ],
      "execution_count": null,
      "metadata": {
        "jupyter": {
          "source_hidden": false,
          "outputs_hidden": false
        },
        "noteable": {
          "cell_type": "code"
        },
        "ExecuteTime": {
          "start_time": "2023-05-26T20:33:18.530799+00:00",
          "end_time": "2023-05-26T20:33:18.690674+00:00"
        }
      },
      "id": "86f7dcd8-ec94-42a4-ab1b-e879796e07da"
    },
    {
      "cell_type": "code",
      "source": [
        "# Find the user most similar to the first user\n",
        "similar_user_index = np.argmax(correlation_matrix[0])\n",
        "\n",
        "# Find the movies rated by this user but not by the first user\n",
        "movies_rated_by_similar_user = user_movie_matrix.iloc[similar_user_index]\n",
        "movies_not_seen_by_first_user = user_movie_matrix.iloc[0].isna()\n",
        "\n",
        "# Recommend a movie\n",
        "recommended_movie = movies_rated_by_similar_user[movies_not_seen_by_first_user].idxmax()\n",
        "\n",
        "recommended_movie"
      ],
      "outputs": [
        {
          "output_type": "error",
          "ename": "ValueError",
          "evalue": "attempt to get argmax of an empty sequence",
          "traceback": [
            "\u001b[0;31m---------------------------------------------------------------------------\u001b[0m",
            "\u001b[0;31mValueError\u001b[0m                                Traceback (most recent call last)",
            "Cell \u001b[0;32mIn[6], line 9\u001b[0m\n\u001b[1;32m      6\u001b[0m movies_not_seen_by_first_user \u001b[38;5;241m=\u001b[39m user_movie_matrix\u001b[38;5;241m.\u001b[39miloc[\u001b[38;5;241m0\u001b[39m]\u001b[38;5;241m.\u001b[39misna()\n\u001b[1;32m      8\u001b[0m \u001b[38;5;66;03m# Recommend a movie\u001b[39;00m\n\u001b[0;32m----> 9\u001b[0m recommended_movie \u001b[38;5;241m=\u001b[39m \u001b[43mmovies_rated_by_similar_user\u001b[49m\u001b[43m[\u001b[49m\u001b[43mmovies_not_seen_by_first_user\u001b[49m\u001b[43m]\u001b[49m\u001b[38;5;241;43m.\u001b[39;49m\u001b[43midxmax\u001b[49m\u001b[43m(\u001b[49m\u001b[43m)\u001b[49m\n\u001b[1;32m     11\u001b[0m recommended_movie\n",
            "File \u001b[0;32m/opt/conda/lib/python3.9/site-packages/pandas/core/series.py:2564\u001b[0m, in \u001b[0;36mSeries.idxmax\u001b[0;34m(self, axis, skipna, *args, **kwargs)\u001b[0m\n\u001b[1;32m   2500\u001b[0m \u001b[38;5;28;01mdef\u001b[39;00m \u001b[38;5;21midxmax\u001b[39m(\u001b[38;5;28mself\u001b[39m, axis: Axis \u001b[38;5;241m=\u001b[39m \u001b[38;5;241m0\u001b[39m, skipna: \u001b[38;5;28mbool\u001b[39m \u001b[38;5;241m=\u001b[39m \u001b[38;5;28;01mTrue\u001b[39;00m, \u001b[38;5;241m*\u001b[39margs, \u001b[38;5;241m*\u001b[39m\u001b[38;5;241m*\u001b[39mkwargs) \u001b[38;5;241m-\u001b[39m\u001b[38;5;241m>\u001b[39m Hashable:\n\u001b[1;32m   2501\u001b[0m \u001b[38;5;250m    \u001b[39m\u001b[38;5;124;03m\"\"\"\u001b[39;00m\n\u001b[1;32m   2502\u001b[0m \u001b[38;5;124;03m    Return the row label of the maximum value.\u001b[39;00m\n\u001b[1;32m   2503\u001b[0m \n\u001b[0;32m   (...)\u001b[0m\n\u001b[1;32m   2562\u001b[0m \u001b[38;5;124;03m    nan\u001b[39;00m\n\u001b[1;32m   2563\u001b[0m \u001b[38;5;124;03m    \"\"\"\u001b[39;00m\n\u001b[0;32m-> 2564\u001b[0m     i \u001b[38;5;241m=\u001b[39m \u001b[38;5;28;43mself\u001b[39;49m\u001b[38;5;241;43m.\u001b[39;49m\u001b[43margmax\u001b[49m\u001b[43m(\u001b[49m\u001b[43maxis\u001b[49m\u001b[43m,\u001b[49m\u001b[43m \u001b[49m\u001b[43mskipna\u001b[49m\u001b[43m,\u001b[49m\u001b[43m \u001b[49m\u001b[38;5;241;43m*\u001b[39;49m\u001b[43margs\u001b[49m\u001b[43m,\u001b[49m\u001b[43m \u001b[49m\u001b[38;5;241;43m*\u001b[39;49m\u001b[38;5;241;43m*\u001b[39;49m\u001b[43mkwargs\u001b[49m\u001b[43m)\u001b[49m\n\u001b[1;32m   2565\u001b[0m     \u001b[38;5;28;01mif\u001b[39;00m i \u001b[38;5;241m==\u001b[39m \u001b[38;5;241m-\u001b[39m\u001b[38;5;241m1\u001b[39m:\n\u001b[1;32m   2566\u001b[0m         \u001b[38;5;28;01mreturn\u001b[39;00m np\u001b[38;5;241m.\u001b[39mnan\n",
            "File \u001b[0;32m/opt/conda/lib/python3.9/site-packages/pandas/core/base.py:655\u001b[0m, in \u001b[0;36mIndexOpsMixin.argmax\u001b[0;34m(self, axis, skipna, *args, **kwargs)\u001b[0m\n\u001b[1;32m    651\u001b[0m         \u001b[38;5;28;01mreturn\u001b[39;00m delegate\u001b[38;5;241m.\u001b[39margmax()\n\u001b[1;32m    652\u001b[0m \u001b[38;5;28;01melse\u001b[39;00m:\n\u001b[1;32m    653\u001b[0m     \u001b[38;5;66;03m# error: Incompatible return value type (got \"Union[int, ndarray]\", expected\u001b[39;00m\n\u001b[1;32m    654\u001b[0m     \u001b[38;5;66;03m# \"int\")\u001b[39;00m\n\u001b[0;32m--> 655\u001b[0m     \u001b[38;5;28;01mreturn\u001b[39;00m \u001b[43mnanops\u001b[49m\u001b[38;5;241;43m.\u001b[39;49m\u001b[43mnanargmax\u001b[49m\u001b[43m(\u001b[49m\u001b[43m  \u001b[49m\u001b[38;5;66;43;03m# type: ignore[return-value]\u001b[39;49;00m\n\u001b[1;32m    656\u001b[0m \u001b[43m        \u001b[49m\u001b[43mdelegate\u001b[49m\u001b[43m,\u001b[49m\u001b[43m \u001b[49m\u001b[43mskipna\u001b[49m\u001b[38;5;241;43m=\u001b[39;49m\u001b[43mskipna\u001b[49m\n\u001b[1;32m    657\u001b[0m \u001b[43m    \u001b[49m\u001b[43m)\u001b[49m\n",
            "File \u001b[0;32m/opt/conda/lib/python3.9/site-packages/pandas/core/nanops.py:93\u001b[0m, in \u001b[0;36mdisallow.__call__.<locals>._f\u001b[0;34m(*args, **kwargs)\u001b[0m\n\u001b[1;32m     91\u001b[0m \u001b[38;5;28;01mtry\u001b[39;00m:\n\u001b[1;32m     92\u001b[0m     \u001b[38;5;28;01mwith\u001b[39;00m np\u001b[38;5;241m.\u001b[39merrstate(invalid\u001b[38;5;241m=\u001b[39m\u001b[38;5;124m\"\u001b[39m\u001b[38;5;124mignore\u001b[39m\u001b[38;5;124m\"\u001b[39m):\n\u001b[0;32m---> 93\u001b[0m         \u001b[38;5;28;01mreturn\u001b[39;00m \u001b[43mf\u001b[49m\u001b[43m(\u001b[49m\u001b[38;5;241;43m*\u001b[39;49m\u001b[43margs\u001b[49m\u001b[43m,\u001b[49m\u001b[43m \u001b[49m\u001b[38;5;241;43m*\u001b[39;49m\u001b[38;5;241;43m*\u001b[39;49m\u001b[43mkwargs\u001b[49m\u001b[43m)\u001b[49m\n\u001b[1;32m     94\u001b[0m \u001b[38;5;28;01mexcept\u001b[39;00m \u001b[38;5;167;01mValueError\u001b[39;00m \u001b[38;5;28;01mas\u001b[39;00m e:\n\u001b[1;32m     95\u001b[0m     \u001b[38;5;66;03m# we want to transform an object array\u001b[39;00m\n\u001b[1;32m     96\u001b[0m     \u001b[38;5;66;03m# ValueError message to the more typical TypeError\u001b[39;00m\n\u001b[1;32m     97\u001b[0m     \u001b[38;5;66;03m# e.g. this is normally a disallowed function on\u001b[39;00m\n\u001b[1;32m     98\u001b[0m     \u001b[38;5;66;03m# object arrays that contain strings\u001b[39;00m\n\u001b[1;32m     99\u001b[0m     \u001b[38;5;28;01mif\u001b[39;00m is_object_dtype(args[\u001b[38;5;241m0\u001b[39m]):\n",
            "File \u001b[0;32m/opt/conda/lib/python3.9/site-packages/pandas/core/nanops.py:1104\u001b[0m, in \u001b[0;36mnanargmax\u001b[0;34m(values, axis, skipna, mask)\u001b[0m\n\u001b[1;32m   1102\u001b[0m values, mask, _, _, _ \u001b[38;5;241m=\u001b[39m _get_values(values, \u001b[38;5;28;01mTrue\u001b[39;00m, fill_value_typ\u001b[38;5;241m=\u001b[39m\u001b[38;5;124m\"\u001b[39m\u001b[38;5;124m-inf\u001b[39m\u001b[38;5;124m\"\u001b[39m, mask\u001b[38;5;241m=\u001b[39mmask)\n\u001b[1;32m   1103\u001b[0m \u001b[38;5;66;03m# error: Need type annotation for 'result'\u001b[39;00m\n\u001b[0;32m-> 1104\u001b[0m result \u001b[38;5;241m=\u001b[39m \u001b[43mvalues\u001b[49m\u001b[38;5;241;43m.\u001b[39;49m\u001b[43margmax\u001b[49m\u001b[43m(\u001b[49m\u001b[43maxis\u001b[49m\u001b[43m)\u001b[49m  \u001b[38;5;66;03m# type: ignore[var-annotated]\u001b[39;00m\n\u001b[1;32m   1105\u001b[0m result \u001b[38;5;241m=\u001b[39m _maybe_arg_null_out(result, axis, mask, skipna)\n\u001b[1;32m   1106\u001b[0m \u001b[38;5;28;01mreturn\u001b[39;00m result\n",
            "\u001b[0;31mValueError\u001b[0m: attempt to get argmax of an empty sequence"
          ]
        }
      ],
      "execution_count": null,
      "metadata": {
        "jupyter": {
          "source_hidden": false,
          "outputs_hidden": false
        },
        "noteable": {
          "cell_type": "code"
        },
        "ExecuteTime": {
          "start_time": "2023-05-26T20:33:52.465890+00:00",
          "end_time": "2023-05-26T20:33:53.231069+00:00"
        }
      },
      "id": "3b651dc5-3a6e-4335-98cc-94a5781040e4"
    },
    {
      "cell_type": "code",
      "source": [
        "# Create a more complex user-movie rating dataset\n",
        "ratings = pd.DataFrame({\n",
        "    'user_id': ['1', '1', '1', '2', '2', '2', '2', '3', '3', '3', '4', '4', '4', '5', '5'],\n",
        "    'movie_id': ['A', 'B', 'C', 'A', 'B', 'D', 'E', 'C', 'D', 'E', 'B', 'E', 'F', 'E', 'F'],\n",
        "    'rating': [5, 4, 3, 4, 5, 3, 4, 2, 4, 5, 5, 4, 3, 5, 4]\n",
        "})\n",
        "\n",
        "# Pivot the dataframe to get user-movie matrix\n",
        "user_movie_matrix = ratings.pivot_table(index='user_id', columns='movie_id', values='rating').fillna(0)\n",
        "\n",
        "# Perform SVD\n",
        "svd = TruncatedSVD(n_components=2)\n",
        "decomposed_matrix = svd.fit_transform(user_movie_matrix)\n",
        "\n",
        "# Compute correlation matrix\n",
        "correlation_matrix = np.corrcoef(decomposed_matrix)\n",
        "\n",
        "# Find the user most similar to the first user\n",
        "similar_user_index = np.argmax(correlation_matrix[0])\n",
        "\n",
        "# Find the movies rated by this user but not by the first user\n",
        "movies_rated_by_similar_user = user_movie_matrix.iloc[similar_user_index]\n",
        "movies_not_seen_by_first_user = user_movie_matrix.iloc[0].isna()\n",
        "\n",
        "# Recommend a movie\n",
        "recommended_movie = movies_rated_by_similar_user[movies_not_seen_by_first_user].idxmax()\n",
        "\n",
        "recommended_movie"
      ],
      "outputs": [],
      "execution_count": null,
      "metadata": {
        "jupyter": {
          "source_hidden": false,
          "outputs_hidden": false
        },
        "noteable": {
          "cell_type": "code"
        }
      },
      "id": "fa196220-433d-4002-860b-17f94151d3a7"
    }
  ],
  "metadata": {
    "noteable-chatgpt": {
      "create_notebook": {
        "openai_conversation_id": "33a8e9e9-cc99-50a6-a50e-3d5adcfa87e1",
        "openai_ephemeral_user_id": "28b520a8-9698-5375-8e47-d6909f15c6ec",
        "openai_subdivision1_iso_code": "CA-ON"
      }
    },
    "noteable": {
      "last_transaction_id": "88799117-e54b-4f38-8905-43718feb1ebd",
      "last_delta_id": "eff32be4-4237-46ee-9623-173e299e6c0b"
    },
    "selected_hardware_size": "small",
    "nteract": {
      "version": "noteable@2.9.0"
    }
  },
  "nbformat": 4,
  "nbformat_minor": 5
}